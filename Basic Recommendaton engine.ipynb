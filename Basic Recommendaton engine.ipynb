{
 "cells": [
  {
   "cell_type": "code",
   "execution_count": 2,
   "id": "9b5fad69-ff5f-409d-bd85-053d67455c8d",
   "metadata": {},
   "outputs": [],
   "source": [
    "# Importing Libraries\n",
    "import numpy as np\n",
    "import pandas as pd\n",
    "import sklearn\n",
    "import matplotlib.pyplot as plt\n",
    "import seaborn as sns\n",
    "import warnings\n",
    "warnings.simplefilter(action='ignore', category=FutureWarning)"
   ]
  },
  {
   "cell_type": "code",
   "execution_count": 3,
   "id": "808504fe-aa32-4489-8f12-994cd95898ec",
   "metadata": {},
   "outputs": [
    {
     "name": "stdout",
     "output_type": "stream",
     "text": [
      "                                                name  year movie_rated  \\\n",
      "0                                    The Dark Knight  2008       PG-13   \n",
      "1                                          Inception  2010       PG-13   \n",
      "2                                         The Matrix  1999           R   \n",
      "3  The Lord of the Rings: The Fellowship of the Ring  2001       PG-13   \n",
      "4                              The Dark Knight Rises  2012       PG-13   \n",
      "\n",
      "  run_length                       genres            release_date  rating  \\\n",
      "0   2h 32min       Action; Crime; Drama;       18 July 2008 (USA)     9.0   \n",
      "1   2h 28min  Action; Adventure; Sci-Fi;       16 July 2010 (USA)     8.8   \n",
      "2   2h 16min             Action; Sci-Fi;      31 March 1999 (USA)     8.7   \n",
      "3   2h 58min   Action; Adventure; Drama;   19 December 2001 (USA)     8.8   \n",
      "4   2h 44min          Action; Adventure;       20 July 2012 (USA)     8.4   \n",
      "\n",
      "   num_raters  num_reviews                                         review_url  \n",
      "0     2224522         6836  https://www.imdb.com/title/tt0468569/reviews/_...  \n",
      "1     1981675         3820  https://www.imdb.com/title/tt1375666/reviews/_...  \n",
      "2     1619761         4281  https://www.imdb.com/title/tt0133093/reviews/_...  \n",
      "3     1609165         5365  https://www.imdb.com/title/tt0120737/reviews/_...  \n",
      "4     1470329         2979  https://www.imdb.com/title/tt1345836/reviews/_...  \n"
     ]
    }
   ],
   "source": [
    "#loading rating dataset\n",
    "ratings = pd.read_csv(r\"C:\\Users\\sugan\\anaconda3\\movie\\Action.csv\" )\n",
    "print(ratings.head())"
   ]
  },
  {
   "cell_type": "code",
   "execution_count": 4,
   "id": "987eb1c8-1d84-4c62-9c38-35017e38f4e4",
   "metadata": {},
   "outputs": [
    {
     "name": "stdout",
     "output_type": "stream",
     "text": [
      "Number of ratings: 100\n",
      "Number of unique movieId's: 100\n",
      "Number of unique genres: 21\n",
      "Average ratings per genre: 4.76\n",
      "Average ratings per movie: 1.0\n"
     ]
    }
   ],
   "source": [
    "n_ratings = len(ratings)\n",
    "n_movies = len(ratings['name'].unique())\n",
    "n_genres = len(ratings['genres'].unique())\n",
    " \n",
    "print(f\"Number of ratings: {n_ratings}\")\n",
    "print(f\"Number of unique movieId's: {n_movies}\")\n",
    "print(f\"Number of unique genres: {n_genres}\")\n",
    "print(f\"Average ratings per genre: {round(n_ratings/n_genres, 2)}\")\n",
    "print(f\"Average ratings per movie: {round(n_ratings/n_movies, 2)}\")"
   ]
  },
  {
   "cell_type": "code",
   "execution_count": 5,
   "id": "13dc5268-4797-4ae5-a7c1-8728ccd570a5",
   "metadata": {},
   "outputs": [
    {
     "name": "stdout",
     "output_type": "stream",
     "text": [
      "                         genres  n_ratings\n",
      "0           Action; Adventure;           5\n",
      "1   Action; Adventure; Comedy;           7\n",
      "2    Action; Adventure; Drama;           5\n",
      "3  Action; Adventure; Fantasy;          16\n",
      "4   Action; Adventure; Horror;           1\n"
     ]
    }
   ],
   "source": [
    "user_freq = ratings[['genres', 'name']].groupby(\n",
    "    'genres').count().reset_index()\n",
    "user_freq.columns = ['genres', 'n_ratings']\n",
    "print(user_freq.head())"
   ]
  },
  {
   "cell_type": "code",
   "execution_count": 6,
   "id": "95b1c496-69a4-4617-b3ea-de0bbcd2fa41",
   "metadata": {},
   "outputs": [],
   "source": [
    "# Find Lowest and Highest rated movies:\n",
    "mean_rating = ratings.groupby('name')[['rating']].mean()\n",
    "# Lowest rated movies\n",
    "lowest_rated = mean_rating['rating'].idxmin()\n",
    "ratings.loc[ratings['name'] == lowest_rated]\n",
    "# Highest rated movies\n",
    "highest_rated = mean_rating['rating'].idxmax()\n",
    "ratings.loc[ratings['name'] == highest_rated]\n",
    "# show number of people who rated movies rated movie highest\n",
    "ratings[ratings['name']==highest_rated]\n",
    "# show number of people who rated movies rated movie lowest\n",
    "ratings[ratings['name']==lowest_rated]\n",
    " \n",
    "## the above movies has very low dataset. We will use bayesian average\n",
    "movie_stats = ratings.groupby('name')[['rating']].agg(['count', 'mean'])\n",
    "movie_stats.columns = movie_stats.columns.droplevel()"
   ]
  },
  {
   "cell_type": "code",
   "execution_count": 7,
   "id": "1c8d5c69-67fc-46ea-8d6f-893bb2a75a03",
   "metadata": {},
   "outputs": [],
   "source": [
    "# Now, we create user-item matrix using scipy csr matrix\n",
    "from scipy.sparse import csr_matrix\n",
    " \n",
    "def create_matrix(df):\n",
    "     \n",
    "    N = len(df['genres'].unique())\n",
    "    M = len(df['name'].unique())\n",
    "     \n",
    "    # Map Ids to indices\n",
    "    user_mapper = dict(zip(np.unique(df[\"genres\"]), list(range(N))))\n",
    "    movie_mapper = dict(zip(np.unique(df[\"name\"]), list(range(M))))\n",
    "     \n",
    "    # Map indices to IDs\n",
    "    user_inv_mapper = dict(zip(list(range(N)), np.unique(df[\"genres\"])))\n",
    "    movie_inv_mapper = dict(zip(list(range(M)), np.unique(df[\"name\"])))\n",
    "     \n",
    "    user_index = [user_mapper[i] for i in df['genres']]\n",
    "    movie_index = [movie_mapper[i] for i in df['name']]\n",
    " \n",
    "    X = csr_matrix((df[\"rating\"], (movie_index, user_index)), shape=(M, N))\n",
    "     \n",
    "    return X, user_mapper, movie_mapper, user_inv_mapper, movie_inv_mapper\n",
    "     \n",
    "X, user_mapper, movie_mapper, user_inv_mapper, movie_inv_mapper = create_matrix(ratings)"
   ]
  },
  {
   "cell_type": "code",
   "execution_count": 14,
   "id": "dc99597e-8c5e-4875-a3b1-caf1e0be5e56",
   "metadata": {},
   "outputs": [
    {
     "name": "stdout",
     "output_type": "stream",
     "text": [
      "Since you watched The Matrix\n",
      "The Matrix Reloaded\n",
      "The Matrix\n",
      "Terminator 2: Judgment Day\n",
      "Star Wars: Episode IV - A New Hope\n",
      "Star Wars: Episode III - Revenge of the Sith\n",
      "Star Wars: Episode VI - Return of the Jedi\n",
      "Suicide Squad\n",
      "Star Wars: Episode VIII - The Last Jedi\n",
      "Star Wars: Episode V - The Empire Strikes Back\n",
      "Star Wars: Episode VII - The Force Awakens\n"
     ]
    }
   ],
   "source": [
    "\"\"\"\n",
    "Find similar movies using KNN\n",
    "\"\"\"\n",
    "from sklearn.neighbors import NearestNeighbors\n",
    "\n",
    "def find_similar_movies(movie_id, X, k, metric='cosine', show_distance=False):\n",
    "     \n",
    "    neighbour_ids = []\n",
    "     \n",
    "    movie_ind = movie_mapper[movie_id]\n",
    "    movie_vec = X[movie_ind]\n",
    "    k+=1\n",
    "    kNN = NearestNeighbors(n_neighbors=k, algorithm=\"brute\", metric=metric)\n",
    "    kNN.fit(X)\n",
    "    movie_vec = movie_vec.reshape(1,-1)\n",
    "    neighbour = kNN.kneighbors(movie_vec, return_distance=show_distance)\n",
    "    for i in range(0,k):\n",
    "        n = neighbour.item(i)\n",
    "        neighbour_ids.append(movie_inv_mapper[n])\n",
    "    neighbour_ids.pop(0)\n",
    "    return neighbour_ids\n",
    " \n",
    " \n",
    "movie_titles = dict(zip(ratings['name'], ratings['name']))\n",
    " \n",
    "name = 'The Matrix'\n",
    " \n",
    "#similar_ids = find_similar_movies(movie_id, X, k=10)\n",
    "similar_ids = find_similar_movies(name, X, k=10)\n",
    "#movie_title = movie_titles[movie_id]\n",
    "movie_title = movie_titles[name]\n",
    " \n",
    "print(f\"Since you watched {movie_title}\")\n",
    "for i in similar_ids:\n",
    "    print(movie_titles[i])"
   ]
  }
 ],
 "metadata": {
  "kernelspec": {
   "display_name": "Python 3 (ipykernel)",
   "language": "python",
   "name": "python3"
  },
  "language_info": {
   "codemirror_mode": {
    "name": "ipython",
    "version": 3
   },
   "file_extension": ".py",
   "mimetype": "text/x-python",
   "name": "python",
   "nbconvert_exporter": "python",
   "pygments_lexer": "ipython3",
   "version": "3.11.7"
  }
 },
 "nbformat": 4,
 "nbformat_minor": 5
}
